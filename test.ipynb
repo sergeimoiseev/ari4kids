{
 "metadata": {
  "language_info": {
   "codemirror_mode": {
    "name": "ipython",
    "version": 3
   },
   "file_extension": ".py",
   "mimetype": "text/x-python",
   "name": "python",
   "nbconvert_exporter": "python",
   "pygments_lexer": "ipython3",
   "version": "3.8.5"
  },
  "orig_nbformat": 2,
  "kernelspec": {
   "name": "python385jvsc74a57bd026d424bfc1230b0c30211611c2aa3c9b9b27c0aba4441f1e20f124f124483991",
   "display_name": "Python 3.8.5 64-bit ('uoit': conda)"
  }
 },
 "nbformat": 4,
 "nbformat_minor": 2,
 "cells": [
  {
   "cell_type": "code",
   "execution_count": 4,
   "metadata": {},
   "outputs": [
    {
     "output_type": "stream",
     "name": "stdout",
     "text": [
      "Привет, Аня\n",
      "Верно!\n",
      "Верно!\n",
      "Попробуй следующий пример.\n",
      "2 из 3 решено верно!\n"
     ]
    }
   ],
   "source": [
    "from random import randint\n",
    "import time\n",
    "import pandas as pd\n",
    "from datetime import datetime\n",
    "\n",
    "test_len = 3\n",
    "\n",
    "df = pd.DataFrame(index=range(test_len), columns=[\n",
    "        'name',\n",
    "        'a','b','res','elapsed_time','correct', 'test_res', 'test_len'\n",
    "    ])\n",
    "\n",
    "def save_results(i,name,a,b,res,elapsed_time, correct, test_res, test_len):\n",
    "    df.iloc[i,:]['name']=name\n",
    "    df.iloc[i,:]['a'] = a\n",
    "    df.iloc[i,:]['b'] = b\n",
    "    df.iloc[i,:]['res'] = res\n",
    "    df.iloc[i,:]['elapsed_time'] = elapsed_time\n",
    "    df.iloc[i,:]['correct'] = correct\n",
    "    df.iloc[i,:]['test_res'] = test_res\n",
    "    df.iloc[i,:]['test_len'] = test_len\n",
    "    # print(df)\n",
    "\n",
    "name = input(\"Введи свое имя: \")\n",
    "print(\"Привет, %s\" % (name))\n",
    "\n",
    "test_res = 0\n",
    "for i in range(test_len):\n",
    "    a = randint(1,10)\n",
    "    b = randint(1,10)\n",
    "    start = time.time()\n",
    "    res = int(input(\"Сколько будет %d + %d ?\" % (a, b)))\n",
    "    end = time.time()\n",
    "    elapsed_time = end - start\n",
    "    if res == a+b:\n",
    "        print(\"Верно!\")\n",
    "        test_res += 1\n",
    "        correct = True\n",
    "    else:\n",
    "        print(\"Попробуй следующий пример.\")\n",
    "        correct = False\n",
    "    save_results(i,name,a,b,res,elapsed_time, correct, test_res, test_len)\n",
    "# backup_results\n",
    "df.to_excel('ari4kids_test_%s.xlsx' % (datetime.now().strftime(\"%m_%d_%Y, %H_%M_%S\")))\n",
    "if test_res == test_len:\n",
    "    print(\"Все примеры решены верно!\")\n",
    "elif test_res > test_len/2:\n",
    "    print(\"%d из %d решено верно!\" % (test_res,test_len))\n",
    "else:\n",
    "    print(\"Из %d решено %d\" % (test_len,test_res))\n"
   ]
  },
  {
   "cell_type": "code",
   "execution_count": 2,
   "metadata": {},
   "outputs": [
    {
     "output_type": "execute_result",
     "data": {
      "text/plain": [
       "'Аня'"
      ]
     },
     "metadata": {},
     "execution_count": 2
    }
   ],
   "source": [
    "name"
   ]
  },
  {
   "cell_type": "code",
   "execution_count": null,
   "metadata": {},
   "outputs": [],
   "source": []
  }
 ]
}